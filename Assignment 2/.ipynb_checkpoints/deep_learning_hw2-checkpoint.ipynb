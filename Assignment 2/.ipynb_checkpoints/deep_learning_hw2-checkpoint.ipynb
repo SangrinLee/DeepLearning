{
 "cells": [
  {
   "cell_type": "markdown",
   "metadata": {},
   "source": [
    "# Deep learning from scratch: homework 2"
   ]
  },
  {
   "cell_type": "markdown",
   "metadata": {},
   "source": [
    "### General instructions"
   ]
  },
  {
   "cell_type": "markdown",
   "metadata": {},
   "source": [
    "Complete the exercises listed below in this Jupyter notebook - leaving all of your code in Python cells in the notebook itself.  Feel free to add any necessary cells."
   ]
  },
  {
   "cell_type": "markdown",
   "metadata": {},
   "source": [
    "#### <span style=\"color:#a50e3e;\">Exercise 1. </span>   Perform two-class classification on a toy dataset"
   ]
  },
  {
   "cell_type": "markdown",
   "metadata": {},
   "source": [
    "Code up the two-class logistic regression / softmax cost function, using gradient descent to minimize.  You should use the two class toy dataset we [we saw in class](https://jermwatt.github.io/mlrefined/presentations/courses/deep_learning/Lecture_3_logistic_regression.slides.html#/14/1) to test out your code.  This dataset is in the file called *3d_classification_data_v2.csv*.\n",
    "\n",
    "Create a plot with two panels that shows the number of misclassifications at each gradient descent step (in the left panel), and one that compares the cost function at each gradient descent step (in the right panel).  You won't get perfect separation - but you should be able to separate most of the points."
   ]
  },
  {
   "cell_type": "code",
   "execution_count": 1,
   "metadata": {},
   "outputs": [
    {
     "data": {
      "image/png": "[encoded data removed]",
      "text/plain": [
       "<matplotlib.figure.Figure at 0x200b662b748>"
      ]
     },
     "metadata": {},
     "output_type": "display_data"
    },
    {
     "data": {
      "image/png": "[encoded data removed]",
      "text/plain": [
       "<matplotlib.figure.Figure at 0x200b630b470>"
      ]
     },
     "metadata": {},
     "output_type": "display_data"
    }
   ],
   "source": [
    "# import statement for autograd wrapped numpy\n",
    "import autograd.numpy as np   \n",
    "# the import statement for matplotlib\n",
    "import matplotlib.pyplot as plt\n",
    "# import statment for gradient calculator\n",
    "from autograd import grad\n",
    "# gradient descent function - inputs: g (input function), alpha (steplength parameter), max_its (maximum number of iterations), w (initialization)\n",
    "\n",
    "def gradient_descent(g,alpha,max_its,w):\n",
    "    # compute the gradient of our input function - note this is a function too!\n",
    "    gradient = grad(g)\n",
    "    \n",
    "    weight_history = [w]\n",
    "    # run the gradient descent loop\n",
    "    best_w = w        # weight we return, should be the one providing lowest evaluation\n",
    "    best_eval = g(w)       # lowest evaluation yet\n",
    "    for k in range(max_its):\n",
    "        # evaluate the gradient\n",
    "        grad_eval = gradient(w)\n",
    "        # take gradient descent step\n",
    "        w = w - alpha*grad_eval\n",
    "        weight_history.append(w)\n",
    "        \n",
    "    return weight_history\n",
    "\n",
    "def softmax(w):\n",
    "    cost = 0\n",
    "    for p in range(0,len(y)):\n",
    "        x_p = x[p,:]\n",
    "        y_p = y[p]\n",
    "        a_p = w[0] + sum([a*b for a,b in zip(w[1:],x_p)])\n",
    "        cost += np.log(1 + np.exp(-y_p*a_p))\n",
    "    return cost\n",
    "\n",
    "# data input\n",
    "csvname = '3d_classification_data_v2.csv'\n",
    "data = np.loadtxt(csvname,delimiter = ',')\n",
    "\n",
    "# define the input and output of our dataset - assuming arbitrary N > 2 here\n",
    "x = data[:,:-1]\n",
    "y = data[:,-1]\n",
    "y.shape = (len(y),1)\n",
    "\n",
    "# run gradient descent\n",
    "w_r = np.random.randn(np.shape(x)[1]+1,1)\n",
    "\n",
    "# method to get the number of missclassification\n",
    "def num_of_missclass(weights):\n",
    "    num = 0\n",
    "    for i in range(x.shape[0]):\n",
    "        x_val = x[i,:]      \n",
    "        x_val = np.reshape(x_val, (x.shape[1], 1))\n",
    "        num += (np.sign(weights[0] + np.dot(x_val.T, weights[1:])) - y[i])**2\n",
    "    num = num / 4.0\n",
    "    return num\n",
    "\n",
    "missclass_values = []\n",
    "softmax_values = []\n",
    "weight_history = gradient_descent(g = softmax,alpha = 10**-2,max_its = 100,w = w_r.T[0])\n",
    "\n",
    "for weight in weight_history:\n",
    "    missclass_values.append(num_of_missclass(weight))\n",
    "    softmax_values.append(softmax(weight))\n",
    "\n",
    "plt.plot(missclass_values)\n",
    "plt.xlabel(\"number of iteration\")\n",
    "plt.ylabel(\"number of misclassification\")\n",
    "plt.show()\n",
    "\n",
    "plt.plot(softmax_values)\n",
    "plt.xlabel(\"number of iteration\")\n",
    "plt.ylabel(\"softmax cost value\")\n",
    "plt.show()"
   ]
  },
  {
   "cell_type": "markdown",
   "metadata": {},
   "source": [
    "#### <span style=\"color:#a50e3e;\">Exercise 2. </span>   Perform two-class classification on a breast cancer dataset"
   ]
  },
  {
   "cell_type": "markdown",
   "metadata": {},
   "source": [
    "Use the softmax cost function to classify healthy from cancerous tissue using the dataset located in breast_cancer_dataset.csv (included in this homework folder).  You can examine the description of this dataset [here](https://archive.ics.uci.edu/ml/datasets/Breast+Cancer+Wisconsin+(Diagnostic)). \n",
    "\n",
    "There are $N = 8$ input dimensions to the input of this dataset (these are the first $N = 8$ columns of the breast_cancer_dataset.csv, the last column are the associated labels).  Fit using gradient descent using a maximum of 5,000 iterations.  You should be able to reach a point on the surface where you misclassify less than 30 examples."
   ]
  },
  {
   "cell_type": "markdown",
   "metadata": {},
   "source": [
    "**Note:** Python is a great prototyping language but [it is slow](http://jakevdp.github.io/blog/2014/05/09/why-python-is-slow/), particular when evaluating explicit for loops.  If you are having speed issues try re-writing the softmax cost function using as few explicit for-loops as possible (you can indeed write the entire summation in a single line of Python code, for-loop free)."
   ]
  },
  {
   "cell_type": "code",
   "execution_count": 2,
   "metadata": {},
   "outputs": [
    {
     "data": {
      "image/png": "[encoded data removed]",
      "text/plain": [
       "<matplotlib.figure.Figure at 0x200b7ac9f98>"
      ]
     },
     "metadata": {},
     "output_type": "display_data"
    },
    {
     "data": {
      "image/png": "[encoded data removed]",
      "text/plain": [
       "<matplotlib.figure.Figure at 0x200b8763cc0>"
      ]
     },
     "metadata": {},
     "output_type": "display_data"
    },
    {
     "name": "stdout",
     "output_type": "stream",
     "text": [
      "28.0\n"
     ]
    }
   ],
   "source": [
    "# import statement for autograd wrapped numpy\n",
    "import autograd.numpy as np   \n",
    "# the import statement for matplotlib\n",
    "import matplotlib.pyplot as plt\n",
    "# import statment for gradient calculator\n",
    "from autograd import grad\n",
    "# gradient descent function - inputs: g (input function), alpha (steplength parameter), max_its (maximum number of iterations), w (initialization)\n",
    "\n",
    "def gradient_descent(g,alpha,max_its,w):\n",
    "    # compute the gradient of our input function - note this is a function too!\n",
    "    gradient = grad(g)\n",
    "    \n",
    "    weight_history = [w]\n",
    "    # run the gradient descent loop\n",
    "    best_w = w        # weight we return, should be the one providing lowest evaluation\n",
    "    best_eval = g(w)       # lowest evaluation yet\n",
    "    for k in range(max_its):\n",
    "        # evaluate the gradient\n",
    "        grad_eval = gradient(w)\n",
    "        # take gradient descent step\n",
    "        w = w - alpha*grad_eval\n",
    "        weight_history.append(w)\n",
    "        \n",
    "    return weight_history\n",
    "\n",
    "def softmax(w):\n",
    "    cost = 0\n",
    "    for p in range(0,len(y)):\n",
    "        x_p = x[p,:]\n",
    "        y_p = y[p]\n",
    "        a_p = w[0] + sum([a*b for a,b in zip(w[1:],x_p)])\n",
    "        cost += np.log(1 + np.exp(-y_p*a_p))\n",
    "    return cost\n",
    "\n",
    "# data input\n",
    "csvname = 'breast_cancer_data.csv'\n",
    "data = np.loadtxt(csvname,delimiter = ',')\n",
    "\n",
    "# define the input and output of our dataset - assuming arbitrary N > 2 here\n",
    "x = data[:,:-1]\n",
    "y = data[:,-1]\n",
    "y.shape = (len(y),1)\n",
    "\n",
    "# run gradient descent\n",
    "w_r = np.random.randn(np.shape(x)[1]+1,1)\n",
    "\n",
    "# method to get the number of missclassification\n",
    "def num_of_missclass(weights):\n",
    "    num = 0\n",
    "    for i in range(x.shape[0]):\n",
    "        x_val = x[i,:]      \n",
    "        x_val = np.reshape(x_val, (x.shape[1], 1))\n",
    "        num += (np.sign(weights[0] + np.dot(x_val.T, weights[1:])) - y[i])**2\n",
    "    num = num / 4.0\n",
    "    return num\n",
    "\n",
    "missclass_values = []\n",
    "softmax_values = []\n",
    "weight_history = gradient_descent(g = softmax,alpha = 10**-4,max_its = 2000,w = w_r.T[0])\n",
    "\n",
    "for weight in weight_history:\n",
    "    mis_num = num_of_missclass(weight)\n",
    "    missclass_values.append(mis_num)\n",
    "    softmax_values.append(softmax(weight))\n",
    "\n",
    "plt.plot(missclass_values)\n",
    "plt.xlabel(\"number of iteration\")\n",
    "plt.ylabel(\"number of misclassification\")\n",
    "plt.show()\n",
    "\n",
    "plt.plot(softmax_values)\n",
    "plt.xlabel(\"number of iteration\")\n",
    "plt.ylabel(\"softmax cost value\")\n",
    "plt.show()\n",
    "\n",
    "print (\"----- number of misclassification -----\")\n",
    "print (mis_num[0])"
   ]
  },
  {
   "cell_type": "markdown",
   "metadata": {
    "collapsed": true
   },
   "source": [
    "#### <span style=\"color:#a50e3e;\">Exercise 3. </span>   Code up One-versus-All multiclass classification"
   ]
  },
  {
   "cell_type": "markdown",
   "metadata": {},
   "source": [
    "Using the toy $C = 3$ class dataset we saw [in class](https://jermwatt.github.io/mlrefined/presentations/courses/deep_learning/Lecture_5_one_versus_all.slides.html#/) - located in *3class_data.csv* - code up One-Versus-All classification, using this toy dataset to test out your code.  You should be able to learn a model that perfectly separates this data - as shown in class.  You may use your softmax cost / gradient descent code here for each of the two-class subproblems! "
   ]
  },
  {
   "cell_type": "code",
   "execution_count": 3,
   "metadata": {},
   "outputs": [
    {
     "name": "stdout",
     "output_type": "stream",
     "text": [
      "actual value :  1.0 , predicted value :  1.0\n",
      "actual value :  1.0 , predicted value :  1.0\n",
      "actual value :  1.0 , predicted value :  1.0\n",
      "actual value :  1.0 , predicted value :  1.0\n",
      "actual value :  1.0 , predicted value :  1.0\n",
      "actual value :  1.0 , predicted value :  1.0\n",
      "actual value :  1.0 , predicted value :  1.0\n",
      "actual value :  1.0 , predicted value :  1.0\n",
      "actual value :  1.0 , predicted value :  1.0\n",
      "actual value :  1.0 , predicted value :  1.0\n",
      "actual value :  2.0 , predicted value :  2.0\n",
      "actual value :  2.0 , predicted value :  2.0\n",
      "actual value :  2.0 , predicted value :  2.0\n",
      "actual value :  2.0 , predicted value :  2.0\n",
      "actual value :  2.0 , predicted value :  2.0\n",
      "actual value :  2.0 , predicted value :  2.0\n",
      "actual value :  2.0 , predicted value :  2.0\n",
      "actual value :  2.0 , predicted value :  2.0\n",
      "actual value :  2.0 , predicted value :  2.0\n",
      "actual value :  2.0 , predicted value :  2.0\n",
      "actual value :  3.0 , predicted value :  3.0\n",
      "actual value :  3.0 , predicted value :  3.0\n",
      "actual value :  3.0 , predicted value :  3.0\n",
      "actual value :  3.0 , predicted value :  3.0\n",
      "actual value :  3.0 , predicted value :  3.0\n",
      "actual value :  3.0 , predicted value :  3.0\n",
      "actual value :  3.0 , predicted value :  3.0\n",
      "actual value :  3.0 , predicted value :  3.0\n",
      "actual value :  3.0 , predicted value :  3.0\n",
      "actual value :  3.0 , predicted value :  3.0\n",
      "Total Number :  30 , Correct Number :  30 , Accuracy :  100.0\n"
     ]
    }
   ],
   "source": [
    "# import statement for autograd wrapped numpy\n",
    "import autograd.numpy as np   \n",
    "# the import statement for matplotlib\n",
    "import matplotlib.pyplot as plt\n",
    "# import statment for gradient calculator\n",
    "from autograd import grad\n",
    "# gradient descent function - inputs: g (input function), alpha (steplength parameter), max_its (maximum number of iterations), w (initialization)\n",
    "import math\n",
    "\n",
    "# gradient descent function - inputs: g (input function), alpha (steplength parameter), max_its (maximum number of iterations), w (initialization)\n",
    "def gradient_descent(g,alpha,max_its,w):\n",
    "    wlist = []\n",
    "    \n",
    "    # compute the gradient of our input function - note this is a function too!\n",
    "    gradient = grad(g)\n",
    "\n",
    "    # run the gradient descent loop\n",
    "    best_w = w        # weight we return, should be the one providing lowest evaluation\n",
    "    best_eval = g(w)       # lowest evaluation yet\n",
    "    for k in range(max_its):\n",
    "        # evaluate the gradient\n",
    "        grad_eval = gradient(w)\n",
    "\n",
    "        # take gradient descent step\n",
    "        w = w - alpha*grad_eval\n",
    "        wlist.append(w)\n",
    "        # return only the weight providing the lowest evaluation\n",
    "        test_eval = g(w)\n",
    "        if test_eval < best_eval:\n",
    "            best_eval = test_eval\n",
    "            best_w = w\n",
    "            \n",
    "    return best_w\n",
    "\n",
    "# the convex softmax cost function\n",
    "def softmax(w):\n",
    "    cost = 0\n",
    "    for p in range(0,len(y)):\n",
    "        x_p = x[p,:]\n",
    "        y_p = y_copy[p]\n",
    "        a_p = w[0] + sum([a*b for a,b in zip(w[1:],x_p)])\n",
    "        cost += np.log(1 + np.exp(-y_p*a_p))\n",
    "    return cost\n",
    "\n",
    "# data input\n",
    "csvname = '3class_data.csv'\n",
    "data = np.loadtxt(csvname,delimiter = ',')\n",
    "\n",
    "# define the input and output of our dataset - assuming arbitrary N > 2 here\n",
    "x = data[:,:-1]\n",
    "y = data[:,-1]\n",
    "y.shape = (len(y),1)\n",
    "\n",
    "# run gradient descent\n",
    "w_r = np.random.randn(np.shape(x)[1]+1)\n",
    "# method to get the number of missclassification\n",
    "def num_of_missclass(weights):\n",
    "    num = 0\n",
    "    for i in range(x.shape[0]):\n",
    "        x_val = x[i,:]      \n",
    "        x_val = np.reshape(x_val, (x.shape[1], 1))\n",
    "        num += (np.sign(weights[0] + np.dot(x_val.T, weights[1:])) - y[i])**2\n",
    "    num = num / 4.0\n",
    "    return num\n",
    "\n",
    "y_copy = y\n",
    "y_class = np.zeros((30, 3))\n",
    "\n",
    "for i in range(len(y)):\n",
    "    if y[i] == 1:\n",
    "        y_class[i, 0] = 1.0\n",
    "    else:\n",
    "        y_class[i, 0] = -1.0\n",
    "    \n",
    "    if y[i] == 2:\n",
    "        y_class[i, 1] = 1.0\n",
    "    else:\n",
    "        y_class[i, 1] = -1.0\n",
    "        \n",
    "    if y[i] == 3:\n",
    "        y_class[i, 2] = 1.0\n",
    "    else:\n",
    "        y_class[i, 2] = -1.0\n",
    "\n",
    "y_copy = y_class[:,0]\n",
    "ova_class1 = gradient_descent(g = softmax,alpha = 10**-2,max_its = 500,w = w_r)\n",
    "y_copy = y_class[:,1]\n",
    "ova_class2 = gradient_descent(g = softmax,alpha = 10**-2,max_its = 500,w = w_r)\n",
    "y_copy = y_class[:,2]\n",
    "ova_class3 = gradient_descent(g = softmax,alpha = 10**-2,max_its = 500,w = w_r)\n",
    "\n",
    "ova_class1 = ova_class1 / math.sqrt(ova_class1[0]**2 + ova_class1[1]**2 + ova_class1[2]**2)\n",
    "ova_class2 = ova_class2 / math.sqrt(ova_class2[0]**2 + ova_class2[1]**2 + ova_class2[2]**2)\n",
    "ova_class3 = ova_class3 / math.sqrt(ova_class3[0]**2 + ova_class3[1]**2 + ova_class3[2]**2)\n",
    "\n",
    "def accuracy():\n",
    "    correct = 0\n",
    "    n = len(y)\n",
    "    for i in range(len(y)):\n",
    "        x_val = x[i,:]\n",
    "        predict1 = ova_class1[0] + ova_class1[1]*x_val[0] + ova_class1[2]*x_val[1]\n",
    "        predict2 = ova_class2[0] + ova_class2[1]*x_val[0] + ova_class2[2]*x_val[1]\n",
    "        predict3 = ova_class3[0] + ova_class3[1]*x_val[0] + ova_class3[2]*x_val[1]\n",
    "        \n",
    "        final_predict = 0\n",
    "        if predict1 >= predict2 and predict1 >= predict3:\n",
    "            final_predict = 1.0\n",
    "        elif predict2 >= predict3 and predict2 >= predict1:\n",
    "            final_predict = 2.0\n",
    "        else:\n",
    "            final_predict = 3.0\n",
    "        \n",
    "        print (\"actual value : \", y[i][0], \", predicted value : \", final_predict)\n",
    "        if y[i] == final_predict:\n",
    "            correct += 1\n",
    "    print (\"Total Number : \", len(y), \", Correct Number : \", correct, \", Accuracy : \", correct / len(y) * 100)\n",
    "        \n",
    "accuracy()"
   ]
  },
  {
   "cell_type": "markdown",
   "metadata": {},
   "source": [
    "#### <span style=\"color:#a50e3e;\">Exercise 4. </span>   A nonlinear two-class dataset"
   ]
  },
  {
   "cell_type": "markdown",
   "metadata": {},
   "source": [
    "Propose a nonlinear feature transformation and integrate it into your two-class classification scheme in order to adequately classify the dataset shown below - located in the file *bricks.csv'.  With the right transformation you should be able to classify this quite well."
   ]
  },
  {
   "cell_type": "markdown",
   "metadata": {},
   "source": [
    "<p>\n",
    "  <img src= 'brick_pick.png' width=\"40%\" height=\"40%\" alt=\"\"/>\n",
    "</p>"
   ]
  },
  {
   "cell_type": "code",
   "execution_count": 4,
   "metadata": {},
   "outputs": [
    {
     "name": "stdout",
     "output_type": "stream",
     "text": [
      "----- Number Of Misclassification -----\n",
      "1\n"
     ]
    }
   ],
   "source": [
    "# import statement for autograd wrapped numpy\n",
    "import autograd.numpy as np   \n",
    "# the import statement for matplotlib\n",
    "import matplotlib.pyplot as plt\n",
    "# import statment for gradient calculator\n",
    "from autograd import grad\n",
    "# gradient descent function - inputs: g (input function), alpha (steplength parameter), max_its (maximum number of iterations), w (initialization)\n",
    "\n",
    "# gradient descent function - inputs: g (input function), alpha (steplength parameter), max_its (maximum number of iterations), w (initialization)\n",
    "def gradient_descent(g,alpha,max_its,w):\n",
    "    wlist = []\n",
    "    \n",
    "    # compute the gradient of our input function - note this is a function too!\n",
    "    gradient = grad(g)\n",
    "\n",
    "    # run the gradient descent loop\n",
    "    best_w = w        # weight we return, should be the one providing lowest evaluation\n",
    "    best_eval = g(w)       # lowest evaluation yet\n",
    "    for k in range(max_its):\n",
    "        # evaluate the gradient\n",
    "        grad_eval = gradient(w)\n",
    "\n",
    "        # take gradient descent step\n",
    "        w = w - alpha*grad_eval\n",
    "        wlist.append(w)\n",
    "        # return only the weight providing the lowest evaluation\n",
    "        test_eval = g(w)\n",
    "        if test_eval < best_eval:\n",
    "            best_eval = test_eval\n",
    "            best_w = w\n",
    "            \n",
    "    return best_w\n",
    "\n",
    "# features\n",
    "def f1(x):\n",
    "    return (x[0])\n",
    "\n",
    "def f2(x, w):\n",
    "    return (np.sin(w[2]*x[1]))\n",
    "    \n",
    "# prediction\n",
    "def predict(x,w):\n",
    "    # linear combo\n",
    "    a = w[0] + w[1]*f1(x) + w[3]*f2(x, w)\n",
    "    return a\n",
    "\n",
    "# softmax cost\n",
    "def softmax(w):\n",
    "    cost = 0\n",
    "    for p in range(0,len(y)):\n",
    "        x_p = x[p,:]\n",
    "        y_p = y[p]\n",
    "        cost += np.log(1 + np.exp(-y_p*predict(x_p,w)))\n",
    "    return cost\n",
    "\n",
    "# method to get the number of missclassification\n",
    "def num_of_missclass(weights):\n",
    "    num = 0\n",
    "    for i in range(x.shape[0]):\n",
    "        x_val = x[i,:]\n",
    "        y_val = np.sign(predict(x_val, weights))\n",
    "        if not y_val == y[i]:\n",
    "            num += 1\n",
    "    return num\n",
    "\n",
    "# data input\n",
    "csvname = 'bricks.csv'\n",
    "data = np.loadtxt(csvname,delimiter = ',')\n",
    "\n",
    "# define the input and output of our dataset - assuming arbitrary N > 2 here\n",
    "x = data[:,:-1]\n",
    "y = data[:,-1]\n",
    "y.shape = (len(y),1)\n",
    "\n",
    "# run gradient descent\n",
    "w_r = np.array([0, 0, 4.0, 1.0])\n",
    "weight_history = gradient_descent(g = softmax,alpha = 10**-3,max_its = 1000,w = w_r)\n",
    "\n",
    "print (\"----- Number Of Misclassification -----\")\n",
    "print (num_of_missclass(weight_history))"
   ]
  }
 ],
 "metadata": {
  "anaconda-cloud": {},
  "kernelspec": {
   "display_name": "Python 3",
   "language": "python",
   "name": "python3"
  },
  "language_info": {
   "codemirror_mode": {
    "name": "ipython",
    "version": 3
   },
   "file_extension": ".py",
   "mimetype": "text/x-python",
   "name": "python",
   "nbconvert_exporter": "python",
   "pygments_lexer": "ipython3",
   "version": "3.6.1"
  },
  "toc": {
   "colors": {
    "hover_highlight": "#DAA520",
    "navigate_num": "#000000",
    "navigate_text": "#333333",
    "running_highlight": "#FF0000",
    "selected_highlight": "#FFD700",
    "sidebar_border": "#EEEEEE",
    "wrapper_background": "#FFFFFF"
   },
   "moveMenuLeft": true,
   "nav_menu": {
    "height": "30px",
    "width": "252px"
   },
   "navigate_menu": true,
   "number_sections": false,
   "sideBar": true,
   "threshold": 4,
   "toc_cell": false,
   "toc_section_display": "block",
   "toc_window_display": false,
   "widenNotebook": false
  }
 },
 "nbformat": 4,
 "nbformat_minor": 1
}
